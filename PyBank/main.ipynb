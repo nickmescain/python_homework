{
 "cells": [
  {
   "cell_type": "code",
   "execution_count": 5,
   "metadata": {},
   "outputs": [
    {
     "ename": "FileNotFoundError",
     "evalue": "[Errno 2] No such file or directory: 'Pybank/Resources/budget_data.csv'",
     "output_type": "error",
     "traceback": [
      "\u001b[0;31m---------------------------------------------------------------------------\u001b[0m",
      "\u001b[0;31mFileNotFoundError\u001b[0m                         Traceback (most recent call last)",
      "Cell \u001b[0;32mIn [5], line 1\u001b[0m\n\u001b[0;32m----> 1\u001b[0m \u001b[38;5;28;01mwith\u001b[39;00m \u001b[38;5;28;43mopen\u001b[39;49m\u001b[43m(\u001b[49m\u001b[38;5;124;43m\"\u001b[39;49m\u001b[38;5;124;43mPybank/Resources/budget_data.csv\u001b[39;49m\u001b[38;5;124;43m\"\u001b[39;49m\u001b[43m,\u001b[49m\u001b[38;5;124;43m\"\u001b[39;49m\u001b[38;5;124;43mr\u001b[39;49m\u001b[38;5;124;43m\"\u001b[39;49m\u001b[43m)\u001b[49m \u001b[38;5;28;01mas\u001b[39;00m file:\n\u001b[1;32m      2\u001b[0m     csvreader \u001b[38;5;241m=\u001b[39m csv\u001b[38;5;241m.\u001b[39mreader(file, delimiter\u001b[38;5;241m=\u001b[39m\u001b[38;5;124m'\u001b[39m\u001b[38;5;124m,\u001b[39m\u001b[38;5;124m'\u001b[39m)\n\u001b[1;32m      3\u001b[0m     header \u001b[38;5;241m=\u001b[39m \u001b[38;5;28mnext\u001b[39m(csvreader)\n",
      "\u001b[0;31mFileNotFoundError\u001b[0m: [Errno 2] No such file or directory: 'Pybank/Resources/budget_data.csv'"
     ]
    }
   ],
   "source": [
    "with open(\"Pybank/Resources/budget_data.csv\",\"r\") as file:\n",
    "    csvreader = csv.reader(file, delimiter=',')\n",
    "    header = next(csvreader)"
   ]
  },
  {
   "cell_type": "code",
   "execution_count": null,
   "metadata": {},
   "outputs": [],
   "source": [
    "#Adds data to lists above so we can separate dates/pnl\n",
    "    for row in csvreader:\n",
    "        date = row[0]\n",
    "        p_n_l = int(row[1])\n",
    "        dates.append(date)\n",
    "        profit_n_loss.append(p_n_l)"
   ]
  },
  {
   "cell_type": "code",
   "execution_count": null,
   "metadata": {},
   "outputs": [],
   "source": [
    "#Initialize starting variables\n",
    "count = 0 \n",
    "total_pnl = 0"
   ]
  },
  {
   "cell_type": "code",
   "execution_count": null,
   "metadata": {},
   "outputs": [],
   "source": [
    "for pnl in profit_n_loss:\n",
    "\n",
    "    #Sum of profit/loss and count months:\n",
    "    total_pnl += pnl \n",
    "    count += 1 \n",
    "\n",
    "#Create list to store changes in PNL:\n",
    "change_in_pnl = []\n",
    "#Set prev rev to first number of PNL so first calculation = 0\n",
    "previous_rev = 867884\n",
    "\n",
    "\n",
    "#calculate change in PNL and append to list\n",
    "for x in profit_n_loss:\n",
    "    change = x - previous_rev\n",
    "    previous_rev = x \n",
    "    change_in_pnl.append(change)"
   ]
  },
  {
   "cell_type": "code",
   "execution_count": null,
   "metadata": {},
   "outputs": [],
   "source": [
    "#Sum change in PNL and /85 to get avg change\n",
    "sum_of_changes = sum(change_in_pnl)\n",
    "avg_daily_chg = sum_of_changes/85"
   ]
  },
  {
   "cell_type": "code",
   "execution_count": null,
   "metadata": {},
   "outputs": [],
   "source": [
    "#Get max/min change in values using max/min functions\n",
    "max_change = max(change_in_pnl)\n",
    "min_change = min(change_in_pnl)"
   ]
  },
  {
   "cell_type": "code",
   "execution_count": null,
   "metadata": {},
   "outputs": [],
   "source": [
    "#Used following code: \n",
    "#print(change_in_pnl.index(1926159))--> number is max change from above\n",
    "#Thus max change occured on 25th index:\n",
    "index_of_max = dates[25]\n",
    "\n",
    "#Same method for minimum:\n",
    "index_of_min = dates[44]"
   ]
  },
  {
   "cell_type": "code",
   "execution_count": null,
   "metadata": {},
   "outputs": [],
   "source": [
    "#Output variable that will be written to file\n",
    "output = f\"\"\"\n",
    "Financial Analysis\n",
    "------------------------\n",
    "Total Months: {count}\n",
    "Total PNL: ${total_pnl}\n",
    "Average Change: ${round(avg_daily_chg,2)}\n",
    "Greatest Increase in Profits: {index_of_max} : (${max_change})\n",
    "Greatest Decrease in Profits: {index_of_min} : (${min_change})\n",
    "\"\"\""
   ]
  },
  {
   "cell_type": "code",
   "execution_count": null,
   "metadata": {},
   "outputs": [],
   "source": [
    "#Code to write output to text file\n",
    "with open(\"output.txt\",\"w\") as file:\n",
    "    file.write(output)"
   ]
  }
 ],
 "metadata": {
  "kernelspec": {
   "display_name": "Python 3.8.9 64-bit",
   "language": "python",
   "name": "python3"
  },
  "language_info": {
   "codemirror_mode": {
    "name": "ipython",
    "version": 3
   },
   "file_extension": ".py",
   "mimetype": "text/x-python",
   "name": "python",
   "nbconvert_exporter": "python",
   "pygments_lexer": "ipython3",
   "version": "3.8.9"
  },
  "orig_nbformat": 4,
  "vscode": {
   "interpreter": {
    "hash": "31f2aee4e71d21fbe5cf8b01ff0e069b9275f58929596ceb00d14d90e3e16cd6"
   }
  }
 },
 "nbformat": 4,
 "nbformat_minor": 2
}
